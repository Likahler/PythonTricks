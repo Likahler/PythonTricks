{
 "cells": [
  {
   "cell_type": "markdown",
   "metadata": {},
   "source": [
    "# Hourly prediction up to 2 days\n",
    "Use the predicted value for tarining up to 2 days\n",
    "then replace the training with actual values every 2 days"
   ]
  },
  {
   "cell_type": "code",
   "execution_count": 2,
   "metadata": {
    "collapsed": true
   },
   "outputs": [],
   "source": [
    "import matplotlib.pyplot as plt\n",
    "from datetime import datetime\n",
    "from datetime import timedelta"
   ]
  },
  {
   "cell_type": "code",
   "execution_count": 1,
   "metadata": {
    "collapsed": true
   },
   "outputs": [],
   "source": [
    "# ignore system error\n",
    "import sys\n",
    "import warnings\n",
    "\n",
    "if not sys.warnoptions:\n",
    "    warnings.simplefilter(\"ignore\")"
   ]
  },
  {
   "cell_type": "code",
   "execution_count": null,
   "metadata": {
    "collapsed": true
   },
   "outputs": [],
   "source": [
    "# convert to Epoch time\n",
    "import datetime as dt\n",
    "df['epoch']=(df['date'] - dt.datetime(1970,1,1)).dt.total_seconds()"
   ]
  },
  {
   "cell_type": "code",
   "execution_count": null,
   "metadata": {
    "collapsed": true
   },
   "outputs": [],
   "source": [
    "\n",
    "from sklearn.ensemble import RandomForestRegressor\n",
    "Initial_date=pd.datetime(2017,5,1,13,0,0)\n",
    "RF_HH_pre=[]\n",
    "g=[]\n",
    "\n",
    "\n",
    "while Initial_date< y.date.max():\n",
    "    \n",
    "    if Initial_date <(Initial_date+timedelta(days=2)):\n",
    "        TRAIN_END = Initial_date\n",
    "        \n",
    "        if len(g)<1:\n",
    "            df_training = y.loc[y['date'] <= TRAIN_END]\n",
    "            df_test=y.loc[( y['date'] > TRAIN_END) & (y['date'] <=TRAIN_END+timedelta(hours=1)) ]\n",
    "\n",
    "\n",
    "            df_training_y=df_training[['a']]\n",
    "            df_training_x= df_training[df_training.columns.difference(['a','b'])]\n",
    "\n",
    "            df_test_y=df_test[['a']]\n",
    "            df_test_x= df_test[df_test.columns.difference(['a','b'])]\n",
    "\n",
    "\n",
    "            regr = RandomForestRegressor(n_estimators=100,random_state=0, oob_score=True, n_jobs=8,\n",
    "                                    warm_start=True)\n",
    "            if len(df_test)>0:\n",
    "                y_predicted=regr.fit(df_training_x, df_training_y).predict(df_test_x)\n",
    "                RF_HH_pre.extend(y_predicted)\n",
    "\n",
    "        else:\n",
    "            df_training = y.loc[y['date'] <= TRAIN_END].append(g, ignore_index=True)\n",
    "            df_test=y.loc[( y['date'] > TRAIN_END) & (y['date'] <=TRAIN_END+timedelta(hours=1)) ]\n",
    "\n",
    "\n",
    "            df_training_y=df_training[['a']]\n",
    "            df_training_x= df_training[df_training.columns.difference(['a','b'])]\n",
    "\n",
    "            df_test_y=df_test[['a']]\n",
    "            df_test_x= df_test[df_test.columns.difference(['a','b'])]\n",
    "\n",
    "\n",
    "        regr = RandomForestRegressor(n_estimators=100,random_state=0, oob_score=True, n_jobs=8,\n",
    "                                warm_start=True)\n",
    "        \n",
    "        if len(df_test)>0:\n",
    "            y_predicted=regr.fit(df_training_x, df_training_y).predict(df_test_x)\n",
    "            RF_HH_pre.extend(y_predicted)\n",
    "    \n",
    "    \n",
    "        TRAIN_END=TRAIN_END+timedelta(hours=1)\n",
    "    \n",
    "        g=y.loc[y['date'] <= TRAIN_END].tail(1)\n",
    "        g['row7cu_y']=y_predicted\n",
    "        g['date'] =g['date']+ timedelta(hours=1)\n",
    "    \n",
    "    else:\n",
    "    \n",
    "\n",
    "        df_training = y.loc[y['date'] <= TRAIN_END]\n",
    "        df_test=y.loc[( y['date'] > TRAIN_END) & (y['date'] <=TRAIN_END+timedelta(days=2)) ]\n",
    "    \n",
    "                       \n",
    "        df_training_y=df_training[['row7cu_y']]\n",
    "        df_training_x= df_training[df_training.columns.difference(['row7cu_y',\n",
    "        'row7Mo', 'row7Fe_y','date', 'row7Mo', 'row7Fe_y',\n",
    "                'FIC302-7','AIC9048'])]\n",
    "    \n",
    "        df_test_y=df_test[['row7cu_y']]\n",
    "        df_test_x= df_test[df_test.columns.difference(['row7cu_y',\n",
    "        'row7Mo', 'row7Fe_y','date', 'row7Mo', 'row7Fe_y',\n",
    "                'FIC302-7','AIC9048'])]\n",
    "\n",
    "    \n",
    "        regr = RandomForestRegressor(n_estimators=100,random_state=0, oob_score=True, n_jobs=8,\n",
    "                                warm_start=True)\n",
    "\n",
    "    \n",
    "        if len(df_test)>0:\n",
    "            y_predicted=regr.fit(df_training_x, df_training_y).predict(df_test_x)\n",
    "            RF_HH_pre.extend(y_predicted)\n",
    "    \n",
    "        Initial_date=Initial_date+timedelta(days=2)\n",
    "    "
   ]
  },
  {
   "cell_type": "code",
   "execution_count": null,
   "metadata": {
    "collapsed": true
   },
   "outputs": [],
   "source": [
    "a,b=zip(*RF_HD_pre)\n",
    "ff=FC[['a','b','date']]\n",
    "M_H=ff.loc [ff['date'] >= (pd.datetime(2017,5,1,13,0,0))]\n",
    "\n",
    "print (M_H.shape)\n",
    "print (len(a))"
   ]
  }
 ],
 "metadata": {
  "kernelspec": {
   "display_name": "Python 3",
   "language": "python",
   "name": "python3"
  },
  "language_info": {
   "codemirror_mode": {
    "name": "ipython",
    "version": 3
   },
   "file_extension": ".py",
   "mimetype": "text/x-python",
   "name": "python",
   "nbconvert_exporter": "python",
   "pygments_lexer": "ipython3",
   "version": "3.6.3"
  }
 },
 "nbformat": 4,
 "nbformat_minor": 2
}
