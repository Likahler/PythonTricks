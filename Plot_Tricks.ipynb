{
 "cells": [
  {
   "cell_type": "code",
   "execution_count": null,
   "metadata": {
    "collapsed": true
   },
   "outputs": [],
   "source": [
    "import matplotlib.pyplot as plt\n",
    "\n",
    "# update the plot size\n",
    "from pylab import rcParams\n",
    "rcParams['figure.figsize'] = 8,8\n",
    "\n",
    "# change font size of legends for all subplots\n",
    "import pylab as plot\n",
    "params = {'legend.fontsize': 14,\n",
    "          'legend.handlelength': 1}\n",
    "plot.rcParams.update(params)"
   ]
  },
  {
   "cell_type": "code",
   "execution_count": null,
   "metadata": {
    "collapsed": true
   },
   "outputs": [],
   "source": [
    "data[['date','a', 'b']].set_index('date').plot(style='*',\n",
    "                                        subplots=True, sharex=True, sherey=True)"
   ]
  },
  {
   "cell_type": "code",
   "execution_count": null,
   "metadata": {
    "collapsed": true
   },
   "outputs": [],
   "source": [
    "# change fonts for x and y lable, set limit, change tickmarksize\n",
    "\n",
    "plt.xlabel('OSA data', fontsize=14)\n",
    "plt.ylabel('Lab data', fontsize=14)\n",
    "plt.title('Scavenger Concentrate: Cu', fontsize=18,  y=1.2)\n",
    "plt.ylim(0,15)\n",
    "plt.xlim(0,25)\n",
    "\n",
    "# change tick size for all subplots\n",
    "plt.rc('xtick', labelsize=16) \n",
    "plt.rc('ytick', labelsize=16) "
   ]
  },
  {
   "cell_type": "code",
   "execution_count": null,
   "metadata": {
    "collapsed": true
   },
   "outputs": [],
   "source": [
    "# show specific time range in plot\n",
    "plt.xlim([dt.date(2016, 3, 15), dt.date(2017, 6,5)])\n",
    "\n",
    "# remove spacing between subplots\n",
    "plt.subplots_adjust(wspace=0, hspace=0)"
   ]
  },
  {
   "cell_type": "code",
   "execution_count": null,
   "metadata": {
    "collapsed": true
   },
   "outputs": [],
   "source": []
  }
 ],
 "metadata": {
  "kernelspec": {
   "display_name": "Python 3",
   "language": "python",
   "name": "python3"
  },
  "language_info": {
   "codemirror_mode": {
    "name": "ipython",
    "version": 3
   },
   "file_extension": ".py",
   "mimetype": "text/x-python",
   "name": "python",
   "nbconvert_exporter": "python",
   "pygments_lexer": "ipython3",
   "version": "3.6.3"
  }
 },
 "nbformat": 4,
 "nbformat_minor": 2
}
