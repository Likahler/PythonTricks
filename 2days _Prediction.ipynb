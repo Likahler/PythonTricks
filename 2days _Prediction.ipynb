{
 "cells": [
  {
   "cell_type": "markdown",
   "metadata": {},
   "source": [
    "# 2 day prediction"
   ]
  },
  {
   "cell_type": "code",
   "execution_count": null,
   "metadata": {
    "collapsed": true
   },
   "outputs": [],
   "source": [
    "from sklearn.multioutput import MultiOutputRegressor\n",
    "\n",
    "Initial_date=pd.datetime(2017,1,1,13,0,0)\n",
    "RF_pre=[]\n",
    "\n",
    "\n",
    "while Initial_date< FC.date.max():\n",
    "    TRAIN_END = Initial_date\n",
    "    df_training = FC.loc[FC['date'] <= TRAIN_END]\n",
    "    df_test=FC.loc[( FC['date'] > TRAIN_END) & (FC['date'] <=TRAIN_END+timedelta(days=2)) ]\n",
    "    \n",
    "                       \n",
    "    df_training_y=df_training[['a','b']]\n",
    "    df_training_x= df_training[df_training.columns.difference(['date','a', 'b'])]\n",
    "    \n",
    "    df_test_y=df_test[['a','b']]\n",
    "    df_test_x= df_test[df_test.columns.difference(['date','a', 'b'])\n",
    "    \n",
    "    \n",
    "    regr = RandomForestRegressor(n_estimators=500,random_state=0, oob_score=True, n_jobs=8, min_samples_leaf=50)\n",
    "    \n",
    "    if len(df_test)>=1:\n",
    "        y_predicted=MultiOutputRegressor(regr, n_jobs=8).fit(df_training_x, df_training_y).predict(df_test_x)\n",
    "\n",
    "        RFpre.extend(y_predicted)\n",
    "    \n",
    "    Initial_date=Initial_date+timedelta(days=2)"
   ]
  },
  {
   "cell_type": "code",
   "execution_count": null,
   "metadata": {
    "collapsed": true
   },
   "outputs": [],
   "source": [
    "a,b=zip(*RFpre)\n",
    "ff=FC[['a','b','date']]\n",
    "M_RF=ff.loc [ff['date'] > (pd.datetime(2017,1,1,13,0,0))]\n",
    "M_RF['a_pred']=a\n",
    "M_RF['b_pred']=b"
   ]
  },
  {
   "cell_type": "code",
   "execution_count": null,
   "metadata": {
    "collapsed": true
   },
   "outputs": [],
   "source": [
    "print (explained_variance_score(M_RF['a'], M_RF['a_pred']) )\n",
    "print (explained_variance_score(M_RF['b'], M_RF['b_pred']) )\n",
    "r2_score(['a'], M_RF['a_pred'])"
   ]
  },
  {
   "cell_type": "code",
   "execution_count": null,
   "metadata": {
    "collapsed": true
   },
   "outputs": [],
   "source": []
  }
 ],
 "metadata": {
  "kernelspec": {
   "display_name": "Python 3",
   "language": "python",
   "name": "python3"
  },
  "language_info": {
   "codemirror_mode": {
    "name": "ipython",
    "version": 3
   },
   "file_extension": ".py",
   "mimetype": "text/x-python",
   "name": "python",
   "nbconvert_exporter": "python",
   "pygments_lexer": "ipython3",
   "version": "3.6.3"
  }
 },
 "nbformat": 4,
 "nbformat_minor": 2
}
